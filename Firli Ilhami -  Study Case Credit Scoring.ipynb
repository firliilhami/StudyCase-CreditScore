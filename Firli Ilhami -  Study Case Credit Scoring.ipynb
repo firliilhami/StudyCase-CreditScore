{
 "cells": [
  {
   "cell_type": "markdown",
   "metadata": {},
   "source": [
    "# Study Case - Astra Credit Score\n",
    "## Firli Ilhami"
   ]
  },
  {
   "cell_type": "code",
   "execution_count": 317,
   "metadata": {},
   "outputs": [],
   "source": [
    "import numpy as np\n",
    "import pandas as pd\n"
   ]
  },
  {
   "cell_type": "code",
   "execution_count": 318,
   "metadata": {},
   "outputs": [],
   "source": [
    "import matplotlib.pyplot as plt\n",
    "import seaborn as sns\n",
    "%matplotlib inline"
   ]
  },
  {
   "cell_type": "markdown",
   "metadata": {},
   "source": [
    "# Business Understanding\n",
    "Data berisi informasi terkait pelanggan kartu kredit di suatu negara pada periode Januari-Maret 2015. Informasi meliputi latar belakang pelanggan, jumlah tagihan, jumlah pembayaran, lama terlambat bayar dan status pembayaran bulan berikutnya (April 2015).\n",
    "\n",
    "#### Tujuan Pemodelan\n",
    "Dari informasi yang diberikan, perusahaan meminta untuk memprediksi apakah seorang pelanggan kartu kredit  akan terlambat membayar tagihan kartu kredit pada bulan Mei 2015 berdasarkan data pada bulan Februari-April 2015 \n",
    "\n",
    "Karena tujuan akhirnya adalah kita ingin mengkategorikan data yang akan ditest dan sudah ada label terhadap data training sehingga akan digunakan Algoritma Machine Learning untuk klasifikasi untuk melakukan prediksi tersebut."
   ]
  },
  {
   "cell_type": "code",
   "execution_count": 319,
   "metadata": {},
   "outputs": [],
   "source": [
    "df_train=pd.read_csv('training.csv')"
   ]
  },
  {
   "cell_type": "code",
   "execution_count": 320,
   "metadata": {},
   "outputs": [
    {
     "data": {
      "text/html": [
       "<div>\n",
       "<style scoped>\n",
       "    .dataframe tbody tr th:only-of-type {\n",
       "        vertical-align: middle;\n",
       "    }\n",
       "\n",
       "    .dataframe tbody tr th {\n",
       "        vertical-align: top;\n",
       "    }\n",
       "\n",
       "    .dataframe thead th {\n",
       "        text-align: right;\n",
       "    }\n",
       "</style>\n",
       "<table border=\"1\" class=\"dataframe\">\n",
       "  <thead>\n",
       "    <tr style=\"text-align: right;\">\n",
       "      <th></th>\n",
       "      <th>ID</th>\n",
       "      <th>LIMIT_BAL</th>\n",
       "      <th>MARRIAGE</th>\n",
       "      <th>EDUCATION</th>\n",
       "      <th>SEX</th>\n",
       "      <th>AGE</th>\n",
       "      <th>PAY_1</th>\n",
       "      <th>PAY_2</th>\n",
       "      <th>PAY_3</th>\n",
       "      <th>BILL_AMT1</th>\n",
       "      <th>BILL_AMT2</th>\n",
       "      <th>BILL_AMT3</th>\n",
       "      <th>PAY_AMT1</th>\n",
       "      <th>PAY_AMT2</th>\n",
       "      <th>PAY_AMT3</th>\n",
       "    </tr>\n",
       "  </thead>\n",
       "  <tbody>\n",
       "    <tr>\n",
       "      <th>0</th>\n",
       "      <td>1</td>\n",
       "      <td>30000.0</td>\n",
       "      <td>1</td>\n",
       "      <td>1</td>\n",
       "      <td>2</td>\n",
       "      <td>40</td>\n",
       "      <td>0</td>\n",
       "      <td>0</td>\n",
       "      <td>0</td>\n",
       "      <td>24430.0</td>\n",
       "      <td>23881.0</td>\n",
       "      <td>24234.0</td>\n",
       "      <td>1600.0</td>\n",
       "      <td>1287.0</td>\n",
       "      <td>1296.0</td>\n",
       "    </tr>\n",
       "    <tr>\n",
       "      <th>1</th>\n",
       "      <td>2</td>\n",
       "      <td>20000.0</td>\n",
       "      <td>1</td>\n",
       "      <td>1</td>\n",
       "      <td>2</td>\n",
       "      <td>41</td>\n",
       "      <td>2</td>\n",
       "      <td>0</td>\n",
       "      <td>0</td>\n",
       "      <td>16474.0</td>\n",
       "      <td>17203.0</td>\n",
       "      <td>18411.0</td>\n",
       "      <td>1300.0</td>\n",
       "      <td>1500.0</td>\n",
       "      <td>824.0</td>\n",
       "    </tr>\n",
       "    <tr>\n",
       "      <th>2</th>\n",
       "      <td>3</td>\n",
       "      <td>20000.0</td>\n",
       "      <td>1</td>\n",
       "      <td>1</td>\n",
       "      <td>2</td>\n",
       "      <td>36</td>\n",
       "      <td>0</td>\n",
       "      <td>0</td>\n",
       "      <td>0</td>\n",
       "      <td>18600.0</td>\n",
       "      <td>17947.0</td>\n",
       "      <td>18758.0</td>\n",
       "      <td>1367.0</td>\n",
       "      <td>1178.0</td>\n",
       "      <td>712.0</td>\n",
       "    </tr>\n",
       "    <tr>\n",
       "      <th>3</th>\n",
       "      <td>4</td>\n",
       "      <td>20000.0</td>\n",
       "      <td>1</td>\n",
       "      <td>1</td>\n",
       "      <td>2</td>\n",
       "      <td>35</td>\n",
       "      <td>0</td>\n",
       "      <td>0</td>\n",
       "      <td>0</td>\n",
       "      <td>2948.0</td>\n",
       "      <td>3372.0</td>\n",
       "      <td>0.0</td>\n",
       "      <td>1000.0</td>\n",
       "      <td>0.0</td>\n",
       "      <td>0.0</td>\n",
       "    </tr>\n",
       "    <tr>\n",
       "      <th>4</th>\n",
       "      <td>5</td>\n",
       "      <td>170000.0</td>\n",
       "      <td>1</td>\n",
       "      <td>1</td>\n",
       "      <td>2</td>\n",
       "      <td>38</td>\n",
       "      <td>0</td>\n",
       "      <td>0</td>\n",
       "      <td>0</td>\n",
       "      <td>145196.0</td>\n",
       "      <td>110163.0</td>\n",
       "      <td>112157.0</td>\n",
       "      <td>13998.0</td>\n",
       "      <td>3760.0</td>\n",
       "      <td>4000.0</td>\n",
       "    </tr>\n",
       "  </tbody>\n",
       "</table>\n",
       "</div>"
      ],
      "text/plain": [
       "   ID  LIMIT_BAL MARRIAGE EDUCATION SEX  AGE PAY_1 PAY_2 PAY_3  BILL_AMT1  \\\n",
       "0   1    30000.0        1         1   2   40     0     0     0    24430.0   \n",
       "1   2    20000.0        1         1   2   41     2     0     0    16474.0   \n",
       "2   3    20000.0        1         1   2   36     0     0     0    18600.0   \n",
       "3   4    20000.0        1         1   2   35     0     0     0     2948.0   \n",
       "4   5   170000.0        1         1   2   38     0     0     0   145196.0   \n",
       "\n",
       "   BILL_AMT2  BILL_AMT3  PAY_AMT1  PAY_AMT2  PAY_AMT3  \n",
       "0    23881.0    24234.0    1600.0    1287.0    1296.0  \n",
       "1    17203.0    18411.0    1300.0    1500.0     824.0  \n",
       "2    17947.0    18758.0    1367.0    1178.0     712.0  \n",
       "3     3372.0        0.0    1000.0       0.0       0.0  \n",
       "4   110163.0   112157.0   13998.0    3760.0    4000.0  "
      ]
     },
     "execution_count": 320,
     "metadata": {},
     "output_type": "execute_result"
    }
   ],
   "source": [
    "df_test.head()"
   ]
  },
  {
   "cell_type": "code",
   "execution_count": 321,
   "metadata": {},
   "outputs": [
    {
     "data": {
      "text/html": [
       "<div>\n",
       "<style scoped>\n",
       "    .dataframe tbody tr th:only-of-type {\n",
       "        vertical-align: middle;\n",
       "    }\n",
       "\n",
       "    .dataframe tbody tr th {\n",
       "        vertical-align: top;\n",
       "    }\n",
       "\n",
       "    .dataframe thead th {\n",
       "        text-align: right;\n",
       "    }\n",
       "</style>\n",
       "<table border=\"1\" class=\"dataframe\">\n",
       "  <thead>\n",
       "    <tr style=\"text-align: right;\">\n",
       "      <th></th>\n",
       "      <th>ID</th>\n",
       "      <th>LIMIT_BAL</th>\n",
       "      <th>MARRIAGE</th>\n",
       "      <th>EDUCATION</th>\n",
       "      <th>SEX</th>\n",
       "      <th>AGE</th>\n",
       "      <th>PAY_1</th>\n",
       "      <th>PAY_2</th>\n",
       "      <th>PAY_3</th>\n",
       "      <th>BILL_AMT1</th>\n",
       "      <th>BILL_AMT2</th>\n",
       "      <th>BILL_AMT3</th>\n",
       "      <th>PAY_AMT1</th>\n",
       "      <th>PAY_AMT2</th>\n",
       "      <th>PAY_AMT3</th>\n",
       "      <th>TARGET</th>\n",
       "    </tr>\n",
       "  </thead>\n",
       "  <tbody>\n",
       "    <tr>\n",
       "      <th>0</th>\n",
       "      <td>1</td>\n",
       "      <td>30000.0</td>\n",
       "      <td>1</td>\n",
       "      <td>1</td>\n",
       "      <td>2</td>\n",
       "      <td>40</td>\n",
       "      <td>0</td>\n",
       "      <td>0</td>\n",
       "      <td>0</td>\n",
       "      <td>24607.0</td>\n",
       "      <td>24430.0</td>\n",
       "      <td>23881.0</td>\n",
       "      <td>1700.0</td>\n",
       "      <td>1600.0</td>\n",
       "      <td>1287.0</td>\n",
       "      <td>0</td>\n",
       "    </tr>\n",
       "    <tr>\n",
       "      <th>1</th>\n",
       "      <td>2</td>\n",
       "      <td>20000.0</td>\n",
       "      <td>1</td>\n",
       "      <td>1</td>\n",
       "      <td>2</td>\n",
       "      <td>41</td>\n",
       "      <td>1</td>\n",
       "      <td>2</td>\n",
       "      <td>0</td>\n",
       "      <td>17040.0</td>\n",
       "      <td>16474.0</td>\n",
       "      <td>17203.0</td>\n",
       "      <td>0.0</td>\n",
       "      <td>1300.0</td>\n",
       "      <td>1500.0</td>\n",
       "      <td>0</td>\n",
       "    </tr>\n",
       "    <tr>\n",
       "      <th>2</th>\n",
       "      <td>3</td>\n",
       "      <td>20000.0</td>\n",
       "      <td>1</td>\n",
       "      <td>1</td>\n",
       "      <td>2</td>\n",
       "      <td>36</td>\n",
       "      <td>0</td>\n",
       "      <td>0</td>\n",
       "      <td>0</td>\n",
       "      <td>17332.0</td>\n",
       "      <td>18600.0</td>\n",
       "      <td>17947.0</td>\n",
       "      <td>1580.0</td>\n",
       "      <td>1367.0</td>\n",
       "      <td>1178.0</td>\n",
       "      <td>0</td>\n",
       "    </tr>\n",
       "    <tr>\n",
       "      <th>3</th>\n",
       "      <td>4</td>\n",
       "      <td>20000.0</td>\n",
       "      <td>1</td>\n",
       "      <td>1</td>\n",
       "      <td>2</td>\n",
       "      <td>35</td>\n",
       "      <td>0</td>\n",
       "      <td>0</td>\n",
       "      <td>0</td>\n",
       "      <td>2003.0</td>\n",
       "      <td>2948.0</td>\n",
       "      <td>3372.0</td>\n",
       "      <td>1086.0</td>\n",
       "      <td>1000.0</td>\n",
       "      <td>0.0</td>\n",
       "      <td>0</td>\n",
       "    </tr>\n",
       "    <tr>\n",
       "      <th>4</th>\n",
       "      <td>5</td>\n",
       "      <td>170000.0</td>\n",
       "      <td>1</td>\n",
       "      <td>1</td>\n",
       "      <td>2</td>\n",
       "      <td>38</td>\n",
       "      <td>0</td>\n",
       "      <td>0</td>\n",
       "      <td>0</td>\n",
       "      <td>171465.0</td>\n",
       "      <td>145196.0</td>\n",
       "      <td>110163.0</td>\n",
       "      <td>18500.0</td>\n",
       "      <td>13998.0</td>\n",
       "      <td>3760.0</td>\n",
       "      <td>0</td>\n",
       "    </tr>\n",
       "  </tbody>\n",
       "</table>\n",
       "</div>"
      ],
      "text/plain": [
       "   ID  LIMIT_BAL  MARRIAGE  EDUCATION  SEX  AGE  PAY_1  PAY_2  PAY_3  \\\n",
       "0   1    30000.0         1          1    2   40      0      0      0   \n",
       "1   2    20000.0         1          1    2   41      1      2      0   \n",
       "2   3    20000.0         1          1    2   36      0      0      0   \n",
       "3   4    20000.0         1          1    2   35      0      0      0   \n",
       "4   5   170000.0         1          1    2   38      0      0      0   \n",
       "\n",
       "   BILL_AMT1  BILL_AMT2  BILL_AMT3  PAY_AMT1  PAY_AMT2  PAY_AMT3  TARGET  \n",
       "0    24607.0    24430.0    23881.0    1700.0    1600.0    1287.0       0  \n",
       "1    17040.0    16474.0    17203.0       0.0    1300.0    1500.0       0  \n",
       "2    17332.0    18600.0    17947.0    1580.0    1367.0    1178.0       0  \n",
       "3     2003.0     2948.0     3372.0    1086.0    1000.0       0.0       0  \n",
       "4   171465.0   145196.0   110163.0   18500.0   13998.0    3760.0       0  "
      ]
     },
     "execution_count": 321,
     "metadata": {},
     "output_type": "execute_result"
    }
   ],
   "source": [
    "df_train.head()"
   ]
  },
  {
   "cell_type": "markdown",
   "metadata": {},
   "source": [
    "# Data Understanding\n",
    "Keterangan untuk setiap feature:\n",
    "* ID : Nomor ID pelanggan\n",
    "* LIMIT_BAL : Batas maksimal kredit pelanggan\n",
    "* MARRIAGE  : status pernikahan, 1=Belum Menikah, 2=Menikah , 3=Lainnya\n",
    "* EDUCATION : 1=S2/S3 , 2=Diploma/S1, 3=SMA, 4=Lainnya\n",
    "* SEX       : Gender\n",
    "* AGE       : Umur\n",
    "* PAY_i     : terlambat membayar pada bulan ke i, i=1,2,3 dan PAY_i=n untuk n=0,1,2,4 dengan n adalah telat membayar selama n bulan\n",
    "* BILL_AMTi : Tagihan untuk bulan ke i, dengan i=1,2,3\n",
    "* PAY_AMTi  : Jumlah nominal yang dibayarkan pada bulan ke i, dengan i=1,2,3\n",
    "* TARGET    : Terlambat membayar pada bulan ke 4 , kode 1= terlambat dan kode 0= tidak terlambat"
   ]
  },
  {
   "cell_type": "code",
   "execution_count": 322,
   "metadata": {},
   "outputs": [
    {
     "name": "stdout",
     "output_type": "stream",
     "text": [
      "<class 'pandas.core.frame.DataFrame'>\n",
      "RangeIndex: 16625 entries, 0 to 16624\n",
      "Data columns (total 16 columns):\n",
      "ID           16625 non-null int64\n",
      "LIMIT_BAL    16625 non-null float64\n",
      "MARRIAGE     16625 non-null int64\n",
      "EDUCATION    16625 non-null int64\n",
      "SEX          16625 non-null int64\n",
      "AGE          16625 non-null int64\n",
      "PAY_1        16625 non-null int64\n",
      "PAY_2        16625 non-null int64\n",
      "PAY_3        16625 non-null int64\n",
      "BILL_AMT1    16625 non-null float64\n",
      "BILL_AMT2    16625 non-null float64\n",
      "BILL_AMT3    16625 non-null float64\n",
      "PAY_AMT1     16625 non-null float64\n",
      "PAY_AMT2     16625 non-null float64\n",
      "PAY_AMT3     16625 non-null float64\n",
      "TARGET       16625 non-null int64\n",
      "dtypes: float64(7), int64(9)\n",
      "memory usage: 2.0 MB\n"
     ]
    }
   ],
   "source": [
    "df_train.info()"
   ]
  },
  {
   "cell_type": "markdown",
   "metadata": {},
   "source": [
    "### Merubah kolom kategorikal yang bertipe non object ke object\n",
    "Jika diperhatikan bahwa kolom yang datanya adalah kategorikal datanya bertipe bukan object oleh karena itu akan diubah terlebih dahulu menjadi object . Hal ini diperlukan untuk kemududahan dalam tahap modeling selanjutnya "
   ]
  },
  {
   "cell_type": "code",
   "execution_count": 323,
   "metadata": {},
   "outputs": [],
   "source": [
    "df_train[['EDUCATION','MARRIAGE','SEX','PAY_1','PAY_2','PAY_3']]=df_train[['EDUCATION','MARRIAGE','SEX','PAY_1','PAY_2','PAY_3']].astype(str)"
   ]
  },
  {
   "cell_type": "markdown",
   "metadata": {},
   "source": [
    "### Memisahkan dataframe antara kategorikal dan numerik & menghapus kolom ID pada dataset"
   ]
  },
  {
   "cell_type": "code",
   "execution_count": 324,
   "metadata": {},
   "outputs": [],
   "source": [
    "df_train.drop('ID',axis=1,inplace=True)\n",
    "objek=['EDUCATION','MARRIAGE','SEX','PAY_1','PAY_2','PAY_3','TARGET']\n",
    "numerik=df_train.drop(df_train[objek],axis=1)\n",
    "kategorik=df_train[objek]\n",
    "kategorik_without_target=kategorik.drop('TARGET',axis=1)"
   ]
  },
  {
   "cell_type": "code",
   "execution_count": 325,
   "metadata": {},
   "outputs": [
    {
     "data": {
      "text/html": [
       "<div>\n",
       "<style scoped>\n",
       "    .dataframe tbody tr th:only-of-type {\n",
       "        vertical-align: middle;\n",
       "    }\n",
       "\n",
       "    .dataframe tbody tr th {\n",
       "        vertical-align: top;\n",
       "    }\n",
       "\n",
       "    .dataframe thead th {\n",
       "        text-align: right;\n",
       "    }\n",
       "</style>\n",
       "<table border=\"1\" class=\"dataframe\">\n",
       "  <thead>\n",
       "    <tr style=\"text-align: right;\">\n",
       "      <th></th>\n",
       "      <th>LIMIT_BAL</th>\n",
       "      <th>AGE</th>\n",
       "      <th>BILL_AMT1</th>\n",
       "      <th>BILL_AMT2</th>\n",
       "      <th>BILL_AMT3</th>\n",
       "      <th>PAY_AMT1</th>\n",
       "      <th>PAY_AMT2</th>\n",
       "      <th>PAY_AMT3</th>\n",
       "    </tr>\n",
       "  </thead>\n",
       "  <tbody>\n",
       "    <tr>\n",
       "      <th>count</th>\n",
       "      <td>16625.000000</td>\n",
       "      <td>16625.000000</td>\n",
       "      <td>16625.000000</td>\n",
       "      <td>16625.000000</td>\n",
       "      <td>16625.000000</td>\n",
       "      <td>16625.000000</td>\n",
       "      <td>16625.000000</td>\n",
       "      <td>16625.000000</td>\n",
       "    </tr>\n",
       "    <tr>\n",
       "      <th>mean</th>\n",
       "      <td>157608.781955</td>\n",
       "      <td>43.373955</td>\n",
       "      <td>50720.634827</td>\n",
       "      <td>48815.920662</td>\n",
       "      <td>46471.030556</td>\n",
       "      <td>5175.054075</td>\n",
       "      <td>4973.786105</td>\n",
       "      <td>4830.003368</td>\n",
       "    </tr>\n",
       "    <tr>\n",
       "      <th>std</th>\n",
       "      <td>124931.062684</td>\n",
       "      <td>8.777974</td>\n",
       "      <td>73365.449060</td>\n",
       "      <td>70753.129768</td>\n",
       "      <td>68182.984755</td>\n",
       "      <td>15033.589318</td>\n",
       "      <td>14867.362888</td>\n",
       "      <td>15646.002915</td>\n",
       "    </tr>\n",
       "    <tr>\n",
       "      <th>min</th>\n",
       "      <td>0.000000</td>\n",
       "      <td>20.000000</td>\n",
       "      <td>-165580.000000</td>\n",
       "      <td>-69777.000000</td>\n",
       "      <td>-61506.000000</td>\n",
       "      <td>0.000000</td>\n",
       "      <td>0.000000</td>\n",
       "      <td>0.000000</td>\n",
       "    </tr>\n",
       "    <tr>\n",
       "      <th>25%</th>\n",
       "      <td>50000.000000</td>\n",
       "      <td>37.000000</td>\n",
       "      <td>3491.000000</td>\n",
       "      <td>2997.000000</td>\n",
       "      <td>2550.000000</td>\n",
       "      <td>566.000000</td>\n",
       "      <td>451.000000</td>\n",
       "      <td>306.000000</td>\n",
       "    </tr>\n",
       "    <tr>\n",
       "      <th>50%</th>\n",
       "      <td>120000.000000</td>\n",
       "      <td>42.000000</td>\n",
       "      <td>21943.000000</td>\n",
       "      <td>20987.000000</td>\n",
       "      <td>19954.000000</td>\n",
       "      <td>2000.000000</td>\n",
       "      <td>2000.000000</td>\n",
       "      <td>1637.000000</td>\n",
       "    </tr>\n",
       "    <tr>\n",
       "      <th>75%</th>\n",
       "      <td>230000.000000</td>\n",
       "      <td>49.000000</td>\n",
       "      <td>65903.000000</td>\n",
       "      <td>62725.000000</td>\n",
       "      <td>59111.000000</td>\n",
       "      <td>5000.000000</td>\n",
       "      <td>4696.000000</td>\n",
       "      <td>4025.000000</td>\n",
       "    </tr>\n",
       "    <tr>\n",
       "      <th>max</th>\n",
       "      <td>800000.000000</td>\n",
       "      <td>72.000000</td>\n",
       "      <td>746814.000000</td>\n",
       "      <td>646770.000000</td>\n",
       "      <td>693131.000000</td>\n",
       "      <td>505000.000000</td>\n",
       "      <td>384986.000000</td>\n",
       "      <td>508229.000000</td>\n",
       "    </tr>\n",
       "  </tbody>\n",
       "</table>\n",
       "</div>"
      ],
      "text/plain": [
       "           LIMIT_BAL           AGE      BILL_AMT1      BILL_AMT2  \\\n",
       "count   16625.000000  16625.000000   16625.000000   16625.000000   \n",
       "mean   157608.781955     43.373955   50720.634827   48815.920662   \n",
       "std    124931.062684      8.777974   73365.449060   70753.129768   \n",
       "min         0.000000     20.000000 -165580.000000  -69777.000000   \n",
       "25%     50000.000000     37.000000    3491.000000    2997.000000   \n",
       "50%    120000.000000     42.000000   21943.000000   20987.000000   \n",
       "75%    230000.000000     49.000000   65903.000000   62725.000000   \n",
       "max    800000.000000     72.000000  746814.000000  646770.000000   \n",
       "\n",
       "           BILL_AMT3       PAY_AMT1       PAY_AMT2       PAY_AMT3  \n",
       "count   16625.000000   16625.000000   16625.000000   16625.000000  \n",
       "mean    46471.030556    5175.054075    4973.786105    4830.003368  \n",
       "std     68182.984755   15033.589318   14867.362888   15646.002915  \n",
       "min    -61506.000000       0.000000       0.000000       0.000000  \n",
       "25%      2550.000000     566.000000     451.000000     306.000000  \n",
       "50%     19954.000000    2000.000000    2000.000000    1637.000000  \n",
       "75%     59111.000000    5000.000000    4696.000000    4025.000000  \n",
       "max    693131.000000  505000.000000  384986.000000  508229.000000  "
      ]
     },
     "execution_count": 325,
     "metadata": {},
     "output_type": "execute_result"
    }
   ],
   "source": [
    "numerik.describe()"
   ]
  },
  {
   "cell_type": "markdown",
   "metadata": {},
   "source": [
    "Jika dilihat di atas untuk feature LIMIT_BAL, BILL_AMT1,BILL_AMT2,BILL_AMT3 , PAY_AMT1, PAY_AMT2, PAY_AMT3 <br>\n",
    "nilai antara Q3 dan nilai maksimumnya terpaut cukup jauh sehingga kemungkinan besar terdapat pencilan pada data di <br>\n",
    "feature-feature tersebut , lebih jelasnya akan dilihat pada boxplotnya."
   ]
  },
  {
   "cell_type": "code",
   "execution_count": 326,
   "metadata": {},
   "outputs": [
    {
     "data": {
      "text/html": [
       "<div>\n",
       "<style scoped>\n",
       "    .dataframe tbody tr th:only-of-type {\n",
       "        vertical-align: middle;\n",
       "    }\n",
       "\n",
       "    .dataframe tbody tr th {\n",
       "        vertical-align: top;\n",
       "    }\n",
       "\n",
       "    .dataframe thead th {\n",
       "        text-align: right;\n",
       "    }\n",
       "</style>\n",
       "<table border=\"1\" class=\"dataframe\">\n",
       "  <thead>\n",
       "    <tr style=\"text-align: right;\">\n",
       "      <th></th>\n",
       "      <th>EDUCATION</th>\n",
       "      <th>MARRIAGE</th>\n",
       "      <th>SEX</th>\n",
       "      <th>PAY_1</th>\n",
       "      <th>PAY_2</th>\n",
       "      <th>PAY_3</th>\n",
       "    </tr>\n",
       "  </thead>\n",
       "  <tbody>\n",
       "    <tr>\n",
       "      <th>count</th>\n",
       "      <td>16625</td>\n",
       "      <td>16625</td>\n",
       "      <td>16625</td>\n",
       "      <td>16625</td>\n",
       "      <td>16625</td>\n",
       "      <td>16625</td>\n",
       "    </tr>\n",
       "    <tr>\n",
       "      <th>unique</th>\n",
       "      <td>4</td>\n",
       "      <td>3</td>\n",
       "      <td>2</td>\n",
       "      <td>5</td>\n",
       "      <td>5</td>\n",
       "      <td>5</td>\n",
       "    </tr>\n",
       "    <tr>\n",
       "      <th>top</th>\n",
       "      <td>2</td>\n",
       "      <td>1</td>\n",
       "      <td>2</td>\n",
       "      <td>0</td>\n",
       "      <td>0</td>\n",
       "      <td>0</td>\n",
       "    </tr>\n",
       "    <tr>\n",
       "      <th>freq</th>\n",
       "      <td>6925</td>\n",
       "      <td>8901</td>\n",
       "      <td>9788</td>\n",
       "      <td>11715</td>\n",
       "      <td>13287</td>\n",
       "      <td>13534</td>\n",
       "    </tr>\n",
       "  </tbody>\n",
       "</table>\n",
       "</div>"
      ],
      "text/plain": [
       "       EDUCATION MARRIAGE    SEX  PAY_1  PAY_2  PAY_3\n",
       "count      16625    16625  16625  16625  16625  16625\n",
       "unique         4        3      2      5      5      5\n",
       "top            2        1      2      0      0      0\n",
       "freq        6925     8901   9788  11715  13287  13534"
      ]
     },
     "execution_count": 326,
     "metadata": {},
     "output_type": "execute_result"
    }
   ],
   "source": [
    "kategorik_without_target.describe()"
   ]
  },
  {
   "cell_type": "markdown",
   "metadata": {},
   "source": [
    "## Pengecekan Missing Value\n",
    "tidak terdapat Missing Value pada data yang dipunya"
   ]
  },
  {
   "cell_type": "code",
   "execution_count": 327,
   "metadata": {},
   "outputs": [
    {
     "data": {
      "text/plain": [
       "TARGET       0.0\n",
       "PAY_AMT3     0.0\n",
       "PAY_AMT2     0.0\n",
       "PAY_AMT1     0.0\n",
       "BILL_AMT3    0.0\n",
       "BILL_AMT2    0.0\n",
       "BILL_AMT1    0.0\n",
       "PAY_3        0.0\n",
       "PAY_2        0.0\n",
       "PAY_1        0.0\n",
       "AGE          0.0\n",
       "SEX          0.0\n",
       "EDUCATION    0.0\n",
       "MARRIAGE     0.0\n",
       "LIMIT_BAL    0.0\n",
       "dtype: float64"
      ]
     },
     "execution_count": 327,
     "metadata": {},
     "output_type": "execute_result"
    }
   ],
   "source": [
    "#count how much the percentage of missing value for each field\n",
    "percentage = round(df_train.isnull().sum()/len(df_train)*100,2).sort_values(ascending = False)\n",
    "percentage"
   ]
  },
  {
   "cell_type": "markdown",
   "metadata": {},
   "source": [
    "# Pengecekan isi data"
   ]
  },
  {
   "cell_type": "code",
   "execution_count": 328,
   "metadata": {},
   "outputs": [
    {
     "name": "stdout",
     "output_type": "stream",
     "text": [
      "2    6925\n",
      "3    5359\n",
      "1    4029\n",
      "4     312\n",
      "Name: EDUCATION, dtype: int64\n",
      "1    8901\n",
      "2    7519\n",
      "3     205\n",
      "Name: MARRIAGE, dtype: int64\n",
      "2    9788\n",
      "1    6837\n",
      "Name: SEX, dtype: int64\n",
      "0    11715\n",
      "1     2309\n",
      "2     2209\n",
      "3      278\n",
      "4      114\n",
      "Name: PAY_1, dtype: int64\n",
      "0    13287\n",
      "2     2944\n",
      "3      260\n",
      "4      117\n",
      "1       17\n",
      "Name: PAY_2, dtype: int64\n",
      "0    13534\n",
      "2     2784\n",
      "3      185\n",
      "4      120\n",
      "1        2\n",
      "Name: PAY_3, dtype: int64\n",
      "0    9989\n",
      "1    6636\n",
      "Name: TARGET, dtype: int64\n"
     ]
    }
   ],
   "source": [
    "for i in kategorik.columns:\n",
    "    print(kategorik[i].value_counts())"
   ]
  },
  {
   "cell_type": "code",
   "execution_count": null,
   "metadata": {},
   "outputs": [],
   "source": []
  },
  {
   "cell_type": "markdown",
   "metadata": {},
   "source": [
    "## Melihat distribusi dari feature numerik"
   ]
  },
  {
   "cell_type": "code",
   "execution_count": 329,
   "metadata": {},
   "outputs": [
    {
     "data": {
      "image/png": "[encoded data removed]",
      "text/plain": [
       "<matplotlib.figure.Figure at 0x225e95059b0>"
      ]
     },
     "metadata": {},
     "output_type": "display_data"
    },
    {
     "data": {
      "image/png": "[encoded data removed]",
      "text/plain": [
       "<matplotlib.figure.Figure at 0x225e7b27668>"
      ]
     },
     "metadata": {},
     "output_type": "display_data"
    },
    {
     "data": {
      "image/png": "[encoded data removed]",
      "text/plain": [
       "<matplotlib.figure.Figure at 0x225ea629d68>"
      ]
     },
     "metadata": {},
     "output_type": "display_data"
    },
    {
     "data": {
      "image/png": "[encoded data removed]",
      "text/plain": [
       "<matplotlib.figure.Figure at 0x225ea76b400>"
      ]
     },
     "metadata": {},
     "output_type": "display_data"
    },
    {
     "data": {
      "image/png": "[encoded data removed]",
      "text/plain": [
       "<matplotlib.figure.Figure at 0x225ea845e80>"
      ]
     },
     "metadata": {},
     "output_type": "display_data"
    },
    {
     "data": {
      "image/png": "[encoded data removed]",
      "text/plain": [
       "<matplotlib.figure.Figure at 0x225e7b6c390>"
      ]
     },
     "metadata": {},
     "output_type": "display_data"
    },
    {
     "data": {
      "image/png": "[encoded data removed]",
      "text/plain": [
       "<matplotlib.figure.Figure at 0x225e9500828>"
      ]
     },
     "metadata": {},
     "output_type": "display_data"
    },
    {
     "data": {
      "image/png": "[encoded data removed]",
      "text/plain": [
       "<matplotlib.figure.Figure at 0x225ea84a320>"
      ]
     },
     "metadata": {},
     "output_type": "display_data"
    }
   ],
   "source": [
    "sns.set_style('whitegrid')\n",
    "for i in range(8):\n",
    "    plt.figure(figsize=(10,7))\n",
    "    sns.distplot(numerik.iloc[:,i])\n",
    "    plt.show()"
   ]
  },
  {
   "cell_type": "markdown",
   "metadata": {},
   "source": [
    "* Untuk limit balancenya terlihat banyak yang direntang 0-100000\n",
    "* Untuk distribusi umur dari pelanggan yang kredit terlihat banyak di rentang 35-50 "
   ]
  },
  {
   "cell_type": "markdown",
   "metadata": {},
   "source": [
    "## Melihat outlier pada data numerik dengan boxplot"
   ]
  },
  {
   "cell_type": "code",
   "execution_count": 330,
   "metadata": {},
   "outputs": [
    {
     "data": {
      "image/png": "[encoded data removed]",
      "text/plain": [
       "<matplotlib.figure.Figure at 0x225e95059e8>"
      ]
     },
     "metadata": {},
     "output_type": "display_data"
    },
    {
     "data": {
      "image/png": "[encoded data removed]",
      "text/plain": [
       "<matplotlib.figure.Figure at 0x225e6a05160>"
      ]
     },
     "metadata": {},
     "output_type": "display_data"
    },
    {
     "data": {
      "image/png": "[encoded data removed]",
      "text/plain": [
       "<matplotlib.figure.Figure at 0x225ea7d3fd0>"
      ]
     },
     "metadata": {},
     "output_type": "display_data"
    },
    {
     "data": {
      "image/png": "[encoded data removed]",
      "text/plain": [
       "<matplotlib.figure.Figure at 0x225ea778b00>"
      ]
     },
     "metadata": {},
     "output_type": "display_data"
    },
    {
     "data": {
      "image/png": "[encoded data removed]",
      "text/plain": [
       "<matplotlib.figure.Figure at 0x225e7d24ef0>"
      ]
     },
     "metadata": {},
     "output_type": "display_data"
    },
    {
     "data": {
      "image/png": "[encoded data removed]",
      "text/plain": [
       "<matplotlib.figure.Figure at 0x225ea6baeb8>"
      ]
     },
     "metadata": {},
     "output_type": "display_data"
    },
    {
     "data": {
      "image/png": "[encoded data removed]",
      "text/plain": [
       "<matplotlib.figure.Figure at 0x225e80fcf60>"
      ]
     },
     "metadata": {},
     "output_type": "display_data"
    },
    {
     "data": {
      "image/png": "[encoded data removed]",
      "text/plain": [
       "<matplotlib.figure.Figure at 0x225ea603d30>"
      ]
     },
     "metadata": {},
     "output_type": "display_data"
    }
   ],
   "source": [
    "for i in range(8):\n",
    "    plt.figure(figsize=(10,7))\n",
    "    sns.boxplot(numerik.iloc[:,i])\n",
    "    plt.show()"
   ]
  },
  {
   "cell_type": "markdown",
   "metadata": {},
   "source": [
    "Dari boxplot terlihat setiap feature memiliki outlier/pencilan , pencilang yang paling sedikit yaitu ada di 'AGE' sedangkan untuk feature yang lain sangat banyak outlier"
   ]
  },
  {
   "cell_type": "markdown",
   "metadata": {},
   "source": [
    "### Jumlah pembayaran kredit terlambat vs tidak terlambat pada bulan ke 4\n",
    "Terlihat dari barplot bahwa lebih banyak yang pembayaran kreditnya tidak terlambat dibandingkan yang pembayarannya terlambat"
   ]
  },
  {
   "cell_type": "code",
   "execution_count": 331,
   "metadata": {},
   "outputs": [
    {
     "data": {
      "text/plain": [
       "Text(0,0.5,'Jumlah')"
      ]
     },
     "execution_count": 331,
     "metadata": {},
     "output_type": "execute_result"
    },
    {
     "data": {
      "image/png": "[encoded data removed]",
      "text/plain": [
       "<matplotlib.figure.Figure at 0x225ea72fba8>"
      ]
     },
     "metadata": {},
     "output_type": "display_data"
    }
   ],
   "source": [
    "plt.figure(figsize=(7,7))\n",
    "sns.countplot(x='TARGET',data=df_train,)\n",
    "plt.title('Jumlah customer yang tepat waktu dan telat membayar  pada bulan ke 4')\n",
    "plt.ylabel('Jumlah')\n",
    "\n"
   ]
  },
  {
   "cell_type": "markdown",
   "metadata": {},
   "source": [
    "## Pria vs Wanita"
   ]
  },
  {
   "cell_type": "code",
   "execution_count": 332,
   "metadata": {},
   "outputs": [
    {
     "data": {
      "text/plain": [
       "Text(0,0.5,'Jumlah')"
      ]
     },
     "execution_count": 332,
     "metadata": {},
     "output_type": "execute_result"
    },
    {
     "data": {
      "image/png": "[encoded data removed]",
      "text/plain": [
       "<matplotlib.figure.Figure at 0x225e9505940>"
      ]
     },
     "metadata": {},
     "output_type": "display_data"
    }
   ],
   "source": [
    "plt.figure(figsize=(7,7))\n",
    "sns.countplot(x='SEX',data=df_train,)\n",
    "plt.title('Jumlah customer pria vs wanita')\n",
    "plt.ylabel('Jumlah')\n"
   ]
  },
  {
   "cell_type": "markdown",
   "metadata": {},
   "source": [
    "sedangkan untuk jumlah wanita dan pria yang tidak telat membayar pada bulan april :"
   ]
  },
  {
   "cell_type": "code",
   "execution_count": 333,
   "metadata": {},
   "outputs": [
    {
     "name": "stdout",
     "output_type": "stream",
     "text": [
      "Jumlah pria yang tidak telat membayar pada bulan April 3364\n",
      "Jumlah wanita yang tidak telat membayar pada bulan April 6625\n"
     ]
    }
   ],
   "source": [
    "jp=df_train[(df_train.TARGET==0) & (df_train.SEX=='1')]['TARGET'].count()\n",
    "jw=df_train[(df_train.TARGET==0) & (df_train.SEX=='2')]['TARGET'].count()\n",
    "print( 'Jumlah pria yang tidak telat membayar pada bulan April '+str(jp))\n",
    "print( 'Jumlah wanita yang tidak telat membayar pada bulan April '+str(jw))"
   ]
  },
  {
   "cell_type": "markdown",
   "metadata": {},
   "source": [
    "sekitar 50% dari jumlah pria membayar kredit tepat waktu sedangkan <br>\n",
    "sedangkan sekitar 60% dari jumlah wantia membayar kredit tepat waktu\n"
   ]
  },
  {
   "cell_type": "markdown",
   "metadata": {},
   "source": [
    "# Data Preparation"
   ]
  },
  {
   "cell_type": "markdown",
   "metadata": {},
   "source": [
    "### Penghapusan feature\n",
    "Pada model klasifikasi yang tidak akan digunakan feature sebagai berikut:\n",
    "* feature numerik : dikarenakan berdasarkan pengamatan data bahwa berapapun besar dari tagihan atau nominal yang dibayarkan tidak terlalu mempengaruhi dari hasil keterlambatan pembayaran\n",
    "* SEX : berdasarkan distribusinya pria dan wanita terhadap populasi SEX masing-masing, persentasenya tidak terlalu jauh yaitu sekitar 5:6.\n",
    "* feature selain di atas akan digunakan <br>\n",
    "\n",
    "\n",
    "trial adalah variabel dataframe percobaan dalam uji coba model"
   ]
  },
  {
   "cell_type": "code",
   "execution_count": 334,
   "metadata": {},
   "outputs": [
    {
     "name": "stdout",
     "output_type": "stream",
     "text": [
      "<class 'pandas.core.frame.DataFrame'>\n",
      "RangeIndex: 16625 entries, 0 to 16624\n",
      "Data columns (total 6 columns):\n",
      "AGE         16625 non-null int64\n",
      "MARRIAGE    16625 non-null object\n",
      "PAY_1       16625 non-null object\n",
      "PAY_2       16625 non-null object\n",
      "PAY_3       16625 non-null object\n",
      "TARGET      16625 non-null int64\n",
      "dtypes: int64(2), object(4)\n",
      "memory usage: 779.4+ KB\n"
     ]
    }
   ],
   "source": [
    "trial=df_train[['AGE','MARRIAGE','PAY_1','PAY_2','PAY_3','TARGET']]\n",
    "trial.info()"
   ]
  },
  {
   "cell_type": "markdown",
   "metadata": {},
   "source": [
    "# Modeling \n",
    "Pada model kali ini akan dibandingkan 2 model yaitu model Regresi Logistik dan Random Forest"
   ]
  },
  {
   "cell_type": "code",
   "execution_count": 335,
   "metadata": {},
   "outputs": [],
   "source": [
    "from sklearn.model_selection import train_test_split\n",
    "from sklearn.linear_model import LogisticRegression"
   ]
  },
  {
   "cell_type": "markdown",
   "metadata": {},
   "source": [
    "### Mentrasform column kategorikal  dengan pandas.get_dummies\n",
    "Karena machine learning tidak bisa membaca data yang beruba object sehingga perlu dilakukannya transformasi data pada feature yang berupa object"
   ]
  },
  {
   "cell_type": "code",
   "execution_count": 336,
   "metadata": {},
   "outputs": [],
   "source": [
    "data=pd.get_dummies(trial,drop_first=True)"
   ]
  },
  {
   "cell_type": "markdown",
   "metadata": {},
   "source": [
    "### Dilakukan split pada dataset yang digunakan\n",
    "Pada split kali ini akan digunakan perbanding 70:30 yaitu dimana 70% adalah data train dan 30% data test"
   ]
  },
  {
   "cell_type": "code",
   "execution_count": 337,
   "metadata": {},
   "outputs": [],
   "source": [
    "y=data['TARGET']\n",
    "X=data.drop('TARGET',axis=1)"
   ]
  },
  {
   "cell_type": "code",
   "execution_count": 338,
   "metadata": {},
   "outputs": [],
   "source": [
    "X_train, X_test, y_train, y_test = train_test_split( X, y, test_size=0.3, random_state=101)"
   ]
  },
  {
   "cell_type": "markdown",
   "metadata": {},
   "source": [
    "### Pengujian dengan model REGRESI LOGISTIK"
   ]
  },
  {
   "cell_type": "code",
   "execution_count": 339,
   "metadata": {},
   "outputs": [
    {
     "data": {
      "text/plain": [
       "LogisticRegression(C=1.0, class_weight=None, dual=False, fit_intercept=True,\n",
       "          intercept_scaling=1, max_iter=100, multi_class='ovr', n_jobs=1,\n",
       "          penalty='l2', random_state=None, solver='liblinear', tol=0.0001,\n",
       "          verbose=0, warm_start=False)"
      ]
     },
     "execution_count": 339,
     "metadata": {},
     "output_type": "execute_result"
    }
   ],
   "source": [
    "logmodel=LogisticRegression()\n",
    "logmodel.fit(X_train,y_train)"
   ]
  },
  {
   "cell_type": "code",
   "execution_count": 340,
   "metadata": {},
   "outputs": [],
   "source": [
    "predictions=logmodel.predict(X_test)"
   ]
  },
  {
   "cell_type": "markdown",
   "metadata": {},
   "source": [
    "### Pengujian dengan model RANDOM FOREST"
   ]
  },
  {
   "cell_type": "code",
   "execution_count": 341,
   "metadata": {},
   "outputs": [],
   "source": [
    "from sklearn.ensemble import RandomForestClassifier\n",
    "from sklearn.datasets import make_classification"
   ]
  },
  {
   "cell_type": "code",
   "execution_count": 342,
   "metadata": {},
   "outputs": [],
   "source": [
    "X, y = make_classification(n_samples=1000, n_features=4)\n",
    "\n",
    "regressor = RandomForestClassifier(n_estimators=20, random_state=0)\n",
    "regressor.fit(X_train, y_train)\n",
    "y_pred = regressor.predict(X_test)"
   ]
  },
  {
   "cell_type": "markdown",
   "metadata": {},
   "source": [
    "## EVALUASI "
   ]
  },
  {
   "cell_type": "code",
   "execution_count": 343,
   "metadata": {},
   "outputs": [],
   "source": [
    "from sklearn.metrics import classification_report,confusion_matrix,accuracy_score,roc_auc_score"
   ]
  },
  {
   "cell_type": "markdown",
   "metadata": {},
   "source": [
    "### Evaluasi model REGRESI LOGISTIK\n",
    "* skor roc_auc memproleh nilai ~0.702 yang mana semakin mendekati 1 model dikatakan semakin baik\n",
    "* dilihat dari akurasinya memperoleh nilai ~0.74 dan presisinya & recal juga bernilai ~0.74 yang mana untuk nilai akurasi, presisi dan recal semakin mendekati 1 model dikatakan semakin baik\n",
    "* Berdasarkan confusion_matrix diketahui bahwa model menebak benar untuk label 0 sebanyak 2666 sedangkan untuk label 1 sebanyak 1024"
   ]
  },
  {
   "cell_type": "code",
   "execution_count": 344,
   "metadata": {},
   "outputs": [
    {
     "name": "stdout",
     "output_type": "stream",
     "text": [
      "             precision    recall  f1-score   support\n",
      "\n",
      "          0       0.73      0.89      0.80      3000\n",
      "          1       0.75      0.52      0.61      1988\n",
      "\n",
      "avg / total       0.74      0.74      0.73      4988\n",
      "\n"
     ]
    }
   ],
   "source": [
    "print(classification_report(y_test,predictions))"
   ]
  },
  {
   "cell_type": "code",
   "execution_count": 345,
   "metadata": {},
   "outputs": [
    {
     "name": "stdout",
     "output_type": "stream",
     "text": [
      "0.701878604963112\n"
     ]
    }
   ],
   "source": [
    "print(roc_auc_score(y_test,predictions))"
   ]
  },
  {
   "cell_type": "code",
   "execution_count": 346,
   "metadata": {},
   "outputs": [
    {
     "name": "stdout",
     "output_type": "stream",
     "text": [
      "0.7397754611066559\n"
     ]
    }
   ],
   "source": [
    "print(accuracy_score(y_test,predictions))"
   ]
  },
  {
   "cell_type": "code",
   "execution_count": 347,
   "metadata": {},
   "outputs": [
    {
     "name": "stdout",
     "output_type": "stream",
     "text": [
      "[[2666  334]\n",
      " [ 964 1024]]\n"
     ]
    }
   ],
   "source": [
    "print(confusion_matrix(y_test,predictions))"
   ]
  },
  {
   "cell_type": "code",
   "execution_count": 348,
   "metadata": {},
   "outputs": [],
   "source": [
    "predictions=logmodel.predict(data_test)"
   ]
  },
  {
   "cell_type": "code",
   "execution_count": 349,
   "metadata": {},
   "outputs": [],
   "source": [
    "tabel_prediksi=pd.Series(predictions)\n"
   ]
  },
  {
   "cell_type": "markdown",
   "metadata": {},
   "source": [
    "### Evaluasi Model Random Forest\n",
    "* skor roc_auc memproleh nilai ~0.757 yang mana semakin mendekati 1 model dikatakan semakin baik\n",
    "* dilihat dari akurasinya memperoleh nilai ~0.78 dan presisinya & recal juga bernilai ~0.78 yang mana untuk nilai akurasi, presisi dan recal semakin mendekati 1 model dikatakan semakin baik\n",
    "* Berdasarkan confusion_matrix diketahui bahwa model menebak benar untuk label 0 sebanyak 2632 sedangkan untuk label 1 sebanyak 1266\n",
    "\n",
    "Berdasarkan perhitungan kebaikan model, untuk model kali ini lebih baik menggunakan model Random Forest karena nilai roc_auc lebih tinggi dibandingkan dengan hasil dari model regresi logistik"
   ]
  },
  {
   "cell_type": "code",
   "execution_count": 350,
   "metadata": {},
   "outputs": [
    {
     "name": "stdout",
     "output_type": "stream",
     "text": [
      "             precision    recall  f1-score   support\n",
      "\n",
      "          0       0.78      0.88      0.83      3000\n",
      "          1       0.77      0.64      0.70      1988\n",
      "\n",
      "avg / total       0.78      0.78      0.78      4988\n",
      "\n"
     ]
    }
   ],
   "source": [
    "print(classification_report(y_test,y_pred))"
   ]
  },
  {
   "cell_type": "code",
   "execution_count": 351,
   "metadata": {},
   "outputs": [
    {
     "name": "stdout",
     "output_type": "stream",
     "text": [
      "0.7570771294433266\n"
     ]
    }
   ],
   "source": [
    "print(roc_auc_score(y_test,y_pred))"
   ]
  },
  {
   "cell_type": "code",
   "execution_count": 352,
   "metadata": {},
   "outputs": [
    {
     "name": "stdout",
     "output_type": "stream",
     "text": [
      "0.7814755412991179\n"
     ]
    }
   ],
   "source": [
    "print(accuracy_score(y_test,y_pred))"
   ]
  },
  {
   "cell_type": "code",
   "execution_count": 353,
   "metadata": {},
   "outputs": [
    {
     "name": "stdout",
     "output_type": "stream",
     "text": [
      "[[2632  368]\n",
      " [ 722 1266]]\n"
     ]
    }
   ],
   "source": [
    "print(confusion_matrix(y_test,y_pred))"
   ]
  },
  {
   "cell_type": "markdown",
   "metadata": {},
   "source": [
    "## Hasil model jika menggunakan data testing\n",
    "Berikut merupakan hasil dari masing-masing model apabila diterapkan untuk data testing.csv"
   ]
  },
  {
   "cell_type": "code",
   "execution_count": 354,
   "metadata": {},
   "outputs": [],
   "source": [
    "df_test=pd.read_csv('testing.csv',delimiter=';')\n",
    "df_test[['EDUCATION','MARRIAGE','SEX','PAY_1','PAY_2','PAY_3']]=df_test[['EDUCATION','MARRIAGE','SEX','PAY_1','PAY_2','PAY_3']].astype(str)"
   ]
  },
  {
   "cell_type": "code",
   "execution_count": 355,
   "metadata": {},
   "outputs": [
    {
     "data": {
      "text/html": [
       "<div>\n",
       "<style scoped>\n",
       "    .dataframe tbody tr th:only-of-type {\n",
       "        vertical-align: middle;\n",
       "    }\n",
       "\n",
       "    .dataframe tbody tr th {\n",
       "        vertical-align: top;\n",
       "    }\n",
       "\n",
       "    .dataframe thead th {\n",
       "        text-align: right;\n",
       "    }\n",
       "</style>\n",
       "<table border=\"1\" class=\"dataframe\">\n",
       "  <thead>\n",
       "    <tr style=\"text-align: right;\">\n",
       "      <th></th>\n",
       "      <th>ID</th>\n",
       "      <th>LIMIT_BAL</th>\n",
       "      <th>MARRIAGE</th>\n",
       "      <th>EDUCATION</th>\n",
       "      <th>SEX</th>\n",
       "      <th>AGE</th>\n",
       "      <th>PAY_1</th>\n",
       "      <th>PAY_2</th>\n",
       "      <th>PAY_3</th>\n",
       "      <th>BILL_AMT1</th>\n",
       "      <th>BILL_AMT2</th>\n",
       "      <th>BILL_AMT3</th>\n",
       "      <th>PAY_AMT1</th>\n",
       "      <th>PAY_AMT2</th>\n",
       "      <th>PAY_AMT3</th>\n",
       "    </tr>\n",
       "  </thead>\n",
       "  <tbody>\n",
       "    <tr>\n",
       "      <th>0</th>\n",
       "      <td>1</td>\n",
       "      <td>30000.0</td>\n",
       "      <td>1</td>\n",
       "      <td>1</td>\n",
       "      <td>2</td>\n",
       "      <td>40</td>\n",
       "      <td>0</td>\n",
       "      <td>0</td>\n",
       "      <td>0</td>\n",
       "      <td>24430.0</td>\n",
       "      <td>23881.0</td>\n",
       "      <td>24234.0</td>\n",
       "      <td>1600.0</td>\n",
       "      <td>1287.0</td>\n",
       "      <td>1296.0</td>\n",
       "    </tr>\n",
       "    <tr>\n",
       "      <th>1</th>\n",
       "      <td>2</td>\n",
       "      <td>20000.0</td>\n",
       "      <td>1</td>\n",
       "      <td>1</td>\n",
       "      <td>2</td>\n",
       "      <td>41</td>\n",
       "      <td>2</td>\n",
       "      <td>0</td>\n",
       "      <td>0</td>\n",
       "      <td>16474.0</td>\n",
       "      <td>17203.0</td>\n",
       "      <td>18411.0</td>\n",
       "      <td>1300.0</td>\n",
       "      <td>1500.0</td>\n",
       "      <td>824.0</td>\n",
       "    </tr>\n",
       "    <tr>\n",
       "      <th>2</th>\n",
       "      <td>3</td>\n",
       "      <td>20000.0</td>\n",
       "      <td>1</td>\n",
       "      <td>1</td>\n",
       "      <td>2</td>\n",
       "      <td>36</td>\n",
       "      <td>0</td>\n",
       "      <td>0</td>\n",
       "      <td>0</td>\n",
       "      <td>18600.0</td>\n",
       "      <td>17947.0</td>\n",
       "      <td>18758.0</td>\n",
       "      <td>1367.0</td>\n",
       "      <td>1178.0</td>\n",
       "      <td>712.0</td>\n",
       "    </tr>\n",
       "    <tr>\n",
       "      <th>3</th>\n",
       "      <td>4</td>\n",
       "      <td>20000.0</td>\n",
       "      <td>1</td>\n",
       "      <td>1</td>\n",
       "      <td>2</td>\n",
       "      <td>35</td>\n",
       "      <td>0</td>\n",
       "      <td>0</td>\n",
       "      <td>0</td>\n",
       "      <td>2948.0</td>\n",
       "      <td>3372.0</td>\n",
       "      <td>0.0</td>\n",
       "      <td>1000.0</td>\n",
       "      <td>0.0</td>\n",
       "      <td>0.0</td>\n",
       "    </tr>\n",
       "    <tr>\n",
       "      <th>4</th>\n",
       "      <td>5</td>\n",
       "      <td>170000.0</td>\n",
       "      <td>1</td>\n",
       "      <td>1</td>\n",
       "      <td>2</td>\n",
       "      <td>38</td>\n",
       "      <td>0</td>\n",
       "      <td>0</td>\n",
       "      <td>0</td>\n",
       "      <td>145196.0</td>\n",
       "      <td>110163.0</td>\n",
       "      <td>112157.0</td>\n",
       "      <td>13998.0</td>\n",
       "      <td>3760.0</td>\n",
       "      <td>4000.0</td>\n",
       "    </tr>\n",
       "  </tbody>\n",
       "</table>\n",
       "</div>"
      ],
      "text/plain": [
       "   ID  LIMIT_BAL MARRIAGE EDUCATION SEX  AGE PAY_1 PAY_2 PAY_3  BILL_AMT1  \\\n",
       "0   1    30000.0        1         1   2   40     0     0     0    24430.0   \n",
       "1   2    20000.0        1         1   2   41     2     0     0    16474.0   \n",
       "2   3    20000.0        1         1   2   36     0     0     0    18600.0   \n",
       "3   4    20000.0        1         1   2   35     0     0     0     2948.0   \n",
       "4   5   170000.0        1         1   2   38     0     0     0   145196.0   \n",
       "\n",
       "   BILL_AMT2  BILL_AMT3  PAY_AMT1  PAY_AMT2  PAY_AMT3  \n",
       "0    23881.0    24234.0    1600.0    1287.0    1296.0  \n",
       "1    17203.0    18411.0    1300.0    1500.0     824.0  \n",
       "2    17947.0    18758.0    1367.0    1178.0     712.0  \n",
       "3     3372.0        0.0    1000.0       0.0       0.0  \n",
       "4   110163.0   112157.0   13998.0    3760.0    4000.0  "
      ]
     },
     "execution_count": 355,
     "metadata": {},
     "output_type": "execute_result"
    }
   ],
   "source": [
    "df_test.head()"
   ]
  },
  {
   "cell_type": "code",
   "execution_count": 356,
   "metadata": {},
   "outputs": [
    {
     "name": "stdout",
     "output_type": "stream",
     "text": [
      "<class 'pandas.core.frame.DataFrame'>\n",
      "RangeIndex: 16625 entries, 0 to 16624\n",
      "Data columns (total 15 columns):\n",
      "ID           16625 non-null int64\n",
      "LIMIT_BAL    16625 non-null float64\n",
      "MARRIAGE     16625 non-null object\n",
      "EDUCATION    16625 non-null object\n",
      "SEX          16625 non-null object\n",
      "AGE          16625 non-null int64\n",
      "PAY_1        16625 non-null object\n",
      "PAY_2        16625 non-null object\n",
      "PAY_3        16625 non-null object\n",
      "BILL_AMT1    16625 non-null float64\n",
      "BILL_AMT2    16625 non-null float64\n",
      "BILL_AMT3    16625 non-null float64\n",
      "PAY_AMT1     16625 non-null float64\n",
      "PAY_AMT2     16625 non-null float64\n",
      "PAY_AMT3     16625 non-null float64\n",
      "dtypes: float64(7), int64(2), object(6)\n",
      "memory usage: 1.9+ MB\n"
     ]
    }
   ],
   "source": [
    "df_test.info()"
   ]
  },
  {
   "cell_type": "markdown",
   "metadata": {},
   "source": [
    "### Model regresi logistik"
   ]
  },
  {
   "cell_type": "code",
   "execution_count": 357,
   "metadata": {},
   "outputs": [],
   "source": [
    "predictions=logmodel.predict(data_test)"
   ]
  },
  {
   "cell_type": "code",
   "execution_count": 358,
   "metadata": {},
   "outputs": [],
   "source": [
    "tabel_prediksi1=pd.Series(predictions)\n"
   ]
  },
  {
   "cell_type": "markdown",
   "metadata": {},
   "source": [
    "### Model Random Forest\n",
    "\n"
   ]
  },
  {
   "cell_type": "code",
   "execution_count": 359,
   "metadata": {},
   "outputs": [],
   "source": [
    "y_pred = regressor.predict(data_test)"
   ]
  },
  {
   "cell_type": "code",
   "execution_count": 360,
   "metadata": {},
   "outputs": [],
   "source": [
    "tabel_prediksi2=pd.Series(y_pred)\n"
   ]
  },
  {
   "cell_type": "markdown",
   "metadata": {},
   "source": [
    "### Perbandingan Hasil dari 2 Model untuk data testing.csv\n",
    "Akan dibandingkan apakah hasil prediksi dari kedua model untuk data testing.csv"
   ]
  },
  {
   "cell_type": "code",
   "execution_count": 361,
   "metadata": {},
   "outputs": [],
   "source": [
    "tabel=pd.DataFrame(list(zip(tabel_prediksi1,tabel_prediksi2)),columns=['Hasil RegLog','Hasil RanFor'])"
   ]
  },
  {
   "cell_type": "code",
   "execution_count": 362,
   "metadata": {},
   "outputs": [],
   "source": [
    "tabel['Koreksi']=abs(tabel['Hasil RegLog']-tabel['Hasil RanFor'])"
   ]
  },
  {
   "cell_type": "code",
   "execution_count": 363,
   "metadata": {},
   "outputs": [
    {
     "data": {
      "text/html": [
       "<div>\n",
       "<style scoped>\n",
       "    .dataframe tbody tr th:only-of-type {\n",
       "        vertical-align: middle;\n",
       "    }\n",
       "\n",
       "    .dataframe tbody tr th {\n",
       "        vertical-align: top;\n",
       "    }\n",
       "\n",
       "    .dataframe thead th {\n",
       "        text-align: right;\n",
       "    }\n",
       "</style>\n",
       "<table border=\"1\" class=\"dataframe\">\n",
       "  <thead>\n",
       "    <tr style=\"text-align: right;\">\n",
       "      <th></th>\n",
       "      <th>Hasil RegLog</th>\n",
       "      <th>Hasil RanFor</th>\n",
       "      <th>Koreksi</th>\n",
       "    </tr>\n",
       "  </thead>\n",
       "  <tbody>\n",
       "    <tr>\n",
       "      <th>0</th>\n",
       "      <td>0</td>\n",
       "      <td>0</td>\n",
       "      <td>0</td>\n",
       "    </tr>\n",
       "    <tr>\n",
       "      <th>1</th>\n",
       "      <td>1</td>\n",
       "      <td>1</td>\n",
       "      <td>0</td>\n",
       "    </tr>\n",
       "    <tr>\n",
       "      <th>2</th>\n",
       "      <td>0</td>\n",
       "      <td>0</td>\n",
       "      <td>0</td>\n",
       "    </tr>\n",
       "    <tr>\n",
       "      <th>3</th>\n",
       "      <td>0</td>\n",
       "      <td>0</td>\n",
       "      <td>0</td>\n",
       "    </tr>\n",
       "    <tr>\n",
       "      <th>4</th>\n",
       "      <td>0</td>\n",
       "      <td>0</td>\n",
       "      <td>0</td>\n",
       "    </tr>\n",
       "  </tbody>\n",
       "</table>\n",
       "</div>"
      ],
      "text/plain": [
       "   Hasil RegLog  Hasil RanFor  Koreksi\n",
       "0             0             0        0\n",
       "1             1             1        0\n",
       "2             0             0        0\n",
       "3             0             0        0\n",
       "4             0             0        0"
      ]
     },
     "execution_count": 363,
     "metadata": {},
     "output_type": "execute_result"
    }
   ],
   "source": [
    "tabel.head()"
   ]
  },
  {
   "cell_type": "code",
   "execution_count": 364,
   "metadata": {},
   "outputs": [
    {
     "data": {
      "text/plain": [
       "0    14353\n",
       "1     2272\n",
       "Name: Koreksi, dtype: int64"
      ]
     },
     "execution_count": 364,
     "metadata": {},
     "output_type": "execute_result"
    }
   ],
   "source": [
    "tabel['Koreksi'].value_counts()"
   ]
  },
  {
   "cell_type": "markdown",
   "metadata": {},
   "source": [
    "Kolom 'Koreksi' pada tabel adalah nilai absolut dari pengurangan setiap nilai dari Hasil Regresi Logistik <br>\n",
    "dengan Hasil Random Forest, <br>\n",
    "yang berarti nilai :\n",
    "* 0 : kedua model memprediksi hasil yang sama\n",
    "* 1 : kedua model memprediksi hasil yang berbeda\n",
    "\n",
    "Artinya kedua model memperoleh 14353 hasil prediksi yang sama untuk melabelkan apakah kartu kredit terlambat membayar atau tidak <br> \n",
    "dan memperoleh 2272  hasil prediksi yang berbeda"
   ]
  }
 ],
 "metadata": {
  "kernelspec": {
   "display_name": "Python 3",
   "language": "python",
   "name": "python3"
  },
  "language_info": {
   "codemirror_mode": {
    "name": "ipython",
    "version": 3
   },
   "file_extension": ".py",
   "mimetype": "text/x-python",
   "name": "python",
   "nbconvert_exporter": "python",
   "pygments_lexer": "ipython3",
   "version": "3.6.4"
  }
 },
 "nbformat": 4,
 "nbformat_minor": 2
}
